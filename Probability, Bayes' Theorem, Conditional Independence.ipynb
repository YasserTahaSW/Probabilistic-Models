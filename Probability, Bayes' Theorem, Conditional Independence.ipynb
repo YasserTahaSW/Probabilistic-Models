{
 "cells": [
  {
   "cell_type": "markdown",
   "metadata": {},
   "source": [
    "# Assignment 1 - Probability, Bayes' Theorem, Conditional Independence\n",
    "## Probabilistic Models UE\n",
    "### WS 2017\n",
    "\n",
    "---\n",
    "<div class=\"alert alert-warning\">\n",
    "**Due:** 24.10.2016, 11:00\n",
    "</div>\n",
    "\n",
    "---\n",
    "<div class=\"alert alert-info\">\n",
    "In the first assignment, you will familiarise yourself with matrix computations in NumPy. You are required to use operations on NumPy arrays, even if it would be possible to solve the exercises with simple multiplications and divisions. This will ensure that you get a feeling how matrix operations and broadcasting works.  \n",
    "  \n",
    "**Hint:** You can still compute the correct results on paper and compare with the solution produced by your Python code!\n",
    "</div>\n",
    "\n",
    "---\n",
    "\n",
    "# 1. Fritz the Fisherman (4 points)\n",
    "\n",
    "For our first real exercise just imagine that you are Fritz the fisherman and you love to go fishing! As you are a very experienced angler and in addition obviously know a lot about probabilities you do not leave anything to chance. During your fishing trips you recognize that your success heavily depends on the current weather conditions and so you start to take a lot of notes. After weeks of measurements you come up with the following probability distribution for $P(C, R, H)$, where $C$ stands for \"Catching\", $R$ for \"Raining\", and $H$ indicates that it is a very \"Hot\" day (thus all variables are boolean).\n",
    "\n",
    "<table style=\"border-collapse:collapse;border-spacing:0;width:500px\"><tr><th style=\"font-family:Arial, sans-serif;font-size:14px;font-weight:normal;padding:10px 5px;border-style:solid;border-width:1px;overflow:hidden;word-break:normal;text-align:center\" rowspan=\"2\">$P(C, R, H)$</th><th style=\"font-family:Arial, sans-serif;font-size:14px;font-weight:normal;padding:10px 5px;border-style:solid;border-width:1px;overflow:hidden;word-break:normal;text-align:center;vertical-align:top\" colspan=\"2\">$\\neg h$<br></th><th style=\"font-family:Arial, sans-serif;font-size:14px;font-weight:normal;padding:10px 5px;border-style:solid;border-width:1px;overflow:hidden;word-break:normal;text-align:center;vertical-align:top\" colspan=\"2\">$h$</th></tr><tr><td style=\"font-family:Arial, sans-serif;font-size:14px;padding:10px 5px;border-style:solid;border-width:1px;overflow:hidden;word-break:normal;text-align:center;vertical-align:top\">$\\neg r$</td><td style=\"font-family:Arial, sans-serif;font-size:14px;padding:10px 5px;border-style:solid;border-width:1px;overflow:hidden;word-break:normal;text-align:center;vertical-align:top\">$r$</td><td style=\"font-family:Arial, sans-serif;font-size:14px;padding:10px 5px;border-style:solid;border-width:1px;overflow:hidden;word-break:normal;text-align:center;vertical-align:top\">$\\neg r$</td><td style=\"font-family:Arial, sans-serif;font-size:14px;padding:10px 5px;border-style:solid;border-width:1px;overflow:hidden;word-break:normal;text-align:center;vertical-align:top\">$r$</td></tr><tr><td style=\"font-family:Arial, sans-serif;font-size:14px;padding:10px 5px;border-style:solid;border-width:1px;overflow:hidden;word-break:normal;text-align:center\">$\\neg c$<br></td><td style=\"font-family:Arial, sans-serif;font-size:14px;padding:10px 5px;border-style:solid;border-width:1px;overflow:hidden;word-break:normal;text-align:center;vertical-align:top\">0.3</td><td style=\"font-family:Arial, sans-serif;font-size:14px;padding:10px 5px;border-style:solid;border-width:1px;overflow:hidden;word-break:normal;text-align:center;vertical-align:top\">0.05</td><td style=\"font-family:Arial, sans-serif;font-size:14px;padding:10px 5px;border-style:solid;border-width:1px;overflow:hidden;word-break:normal;text-align:center;vertical-align:top\">0.2</td><td style=\"font-family:Arial, sans-serif;font-size:14px;padding:10px 5px;border-style:solid;border-width:1px;overflow:hidden;word-break:normal;text-align:center;vertical-align:top\">0.05<br></td></tr><tr><td style=\"font-family:Arial, sans-serif;font-size:14px;padding:10px 5px;border-style:solid;border-width:1px;overflow:hidden;word-break:normal;text-align:center\">$c$</td><td style=\"font-family:Arial, sans-serif;font-size:14px;padding:10px 5px;border-style:solid;border-width:1px;overflow:hidden;word-break:normal;text-align:center;vertical-align:top\">0.05</td><td style=\"font-family:Arial, sans-serif;font-size:14px;padding:10px 5px;border-style:solid;border-width:1px;overflow:hidden;word-break:normal;text-align:center;vertical-align:top\">0.2</td><td style=\"font-family:Arial, sans-serif;font-size:14px;padding:10px 5px;border-style:solid;border-width:1px;overflow:hidden;word-break:normal;text-align:center;vertical-align:top\">0.05</td><td style=\"font-family:Arial, sans-serif;font-size:14px;padding:10px 5px;border-style:solid;border-width:1px;overflow:hidden;word-break:normal;text-align:center;vertical-align:top\">0.1</td></tr></table>\n",
    "\n",
    "Answer the following questions. First, write down the formula for the answer, and then compute the value using NumPy. You can add more code cells using the \"Insert\" menu. Each answer is worth **1 point**.\n",
    "\n",
    "### 1.0 Define Probability Table\n"
   ]
  },
  {
   "cell_type": "code",
   "execution_count": 1,
   "metadata": {
    "collapsed": true
   },
   "outputs": [],
   "source": [
    "import numpy as np"
   ]
  },
  {
   "cell_type": "code",
   "execution_count": 2,
   "metadata": {},
   "outputs": [
    {
     "name": "stdout",
     "output_type": "stream",
     "text": [
      "[ 0.2   0.05]\n"
     ]
    }
   ],
   "source": [
    "probability_table = np.array([\n",
    "              #c,r,h   c,r,-h    c,-r,h    c,-r,-h\n",
    "             [[0.1  ,  0.2],     [0.05  ,   0.05]],\n",
    "             #-c,r,h   -c,r,-h   -c,-r,h  -c,-r,-h\n",
    "             [[0.05 ,  0.05],    [0.2  ,    0.3]]\n",
    "            ])\n"
   ]
  },
  {
   "cell_type": "markdown",
   "metadata": {},
   "source": [
    "### 1.1 At a random time, what is the probability that Fritz is catching a fish?"
   ]
  },
  {
   "cell_type": "code",
   "execution_count": 3,
   "metadata": {},
   "outputs": [
    {
     "name": "stdout",
     "output_type": "stream",
     "text": [
      "0.4\n"
     ]
    }
   ],
   "source": [
    "#P(c) = Sigma-over x,y-(P(c,R=x,H=y))\n",
    "#probability of positive catching\n",
    "P_pc = sum(sum(probability_table[0,:]))\n",
    "print(P_pc)"
   ]
  },
  {
   "cell_type": "markdown",
   "metadata": {},
   "source": [
    "### 1.2 What is the probability that it is not raining when Fritz is catching?"
   ]
  },
  {
   "cell_type": "code",
   "execution_count": 4,
   "metadata": {},
   "outputs": [
    {
     "name": "stdout",
     "output_type": "stream",
     "text": [
      "0.25\n"
     ]
    }
   ],
   "source": [
    "#P(-r|c) = p(-r and c)/P(c)\n",
    "Prob_nr_pc = sum(probability_table[0,1])/P_pc\n",
    "print Prob_nr_pc"
   ]
  },
  {
   "cell_type": "markdown",
   "metadata": {},
   "source": [
    "### 1.3 What is the probability that Fritz is catching when it is cold outside?"
   ]
  },
  {
   "cell_type": "code",
   "execution_count": 5,
   "metadata": {},
   "outputs": [
    {
     "name": "stdout",
     "output_type": "stream",
     "text": [
      "0.6\n",
      "0.25\n",
      "0.416666666667\n"
     ]
    }
   ],
   "source": [
    "#P(-h) = Sigma-over x,y-(P(-h,C=x,R=y))\n",
    "#P(C=c|H=-h) = P(C=c and H=-h)/P(-h)\n",
    "P_nh = sum(sum(probability_table[:,:,1]))\n",
    "#print P_nh\n",
    "P_pc_nh = sum(probability_table[:,:,1][0])/P_nh\n",
    "#print sum(probability_table[:,:,1][0])\n",
    "print P_pc_nh"
   ]
  },
  {
   "cell_type": "markdown",
   "metadata": {},
   "source": [
    "### 1.4 Compute $P(C, r)$ and $P(C \\mid r)$ (mind the lower-case $r$). Explain the conceptual difference!"
   ]
  },
  {
   "cell_type": "code",
   "execution_count": 6,
   "metadata": {
    "collapsed": true
   },
   "outputs": [],
   "source": [
    "#P (X, y) = Sum(over z)P (X, y, z) => P (C, r) = Sum(over h)P (C, r, h) \n",
    "#P (C, r) is a distribution and is computed using inference by enumeration. It calculates all the atomic events\n",
    "#where -c and r happened together along with all combination of other variables AND all atomic events where c \n",
    "#and r happened together along with all combination of other variables\n",
    "\n",
    "P_c_and_r = sum(probability_table[0][0])\n",
    "P_nc_and_r = sum(probability_table[1][0])\n",
    "P_C_and_r = np.array([P_c_and_r,P_nc_and_r])\n",
    "P_C_and_r\n",
    "#P(C|r) is the conditional distribution given the y already occured. its basically #P (C, r) normalized by P(r)\n",
    "#P(r) is basicaly the summation of the probability distribution P (C, r). i.e the summation of r with all values\n",
    "#of C \n",
    "P_r = sum(P_C_and_r)\n",
    "P_C_given_r = np.array(P_C_and_r/P_r)\n"
   ]
  },
  {
   "cell_type": "markdown",
   "metadata": {},
   "source": [
    "---\n",
    "\n",
    "# 2. Balduin Pfiff (6 points)"
   ]
  },
  {
   "cell_type": "markdown",
   "metadata": {},
   "source": [
    "One foggy afternoon the famous detective Balduin Pfiff receives a phone call: an old lady was murdered in the neighbourhood. The only witness is the blind shopkeeper opposite of the crime scene. \"I did not see anything, but I smelled that the murderer used violet-based perfume. I also heard he or she had a high voice.\", he tells the detective. Balduin Pfiff opens the detective's handbook and finds finds the following two tables:\n",
    "\n",
    "**Distribution of perfume scent categories:**\n",
    "<table style=\"border-collapse:collapse;border-spacing:0\"><tr><th style=\"font-family:Arial, sans-serif;font-size:14px;font-weight:normal;padding:10px 5px;border-style:solid;border-width:1px;overflow:hidden;word-break:normal;text-align:center;vertical-align:top\">flowery</th><th style=\"font-family:Arial, sans-serif;font-size:14px;font-weight:normal;padding:10px 5px;border-style:solid;border-width:1px;overflow:hidden;word-break:normal;text-align:center;vertical-align:top\">fruity</th><th style=\"font-family:Arial, sans-serif;font-size:14px;font-weight:normal;padding:10px 5px;border-style:solid;border-width:1px;overflow:hidden;word-break:normal;text-align:center;vertical-align:top\">spicy</th><th style=\"font-family:Arial, sans-serif;font-size:14px;font-weight:normal;padding:10px 5px;border-style:solid;border-width:1px;overflow:hidden;word-break:normal;text-align:center;vertical-align:top\">woody</th><th style=\"font-family:Arial, sans-serif;font-size:14px;font-weight:normal;padding:10px 5px;border-style:solid;border-width:1px;overflow:hidden;word-break:normal;text-align:center;vertical-align:top\">tropical</th></tr><tr><td style=\"font-family:Arial, sans-serif;font-size:14px;padding:10px 5px;border-style:solid;border-width:1px;overflow:hidden;word-break:normal;text-align:center;vertical-align:top\">0.1</td><td style=\"font-family:Arial, sans-serif;font-size:14px;padding:10px 5px;border-style:solid;border-width:1px;overflow:hidden;word-break:normal;text-align:center;vertical-align:top\">0.2</td><td style=\"font-family:Arial, sans-serif;font-size:14px;padding:10px 5px;border-style:solid;border-width:1px;overflow:hidden;word-break:normal;text-align:center;vertical-align:top\">0.15</td><td style=\"font-family:Arial, sans-serif;font-size:14px;padding:10px 5px;border-style:solid;border-width:1px;overflow:hidden;word-break:normal;text-align:center;vertical-align:top\">0.25</td><td style=\"font-family:Arial, sans-serif;font-size:14px;padding:10px 5px;border-style:solid;border-width:1px;overflow:hidden;word-break:normal;text-align:center;vertical-align:top\">0.3</td></tr></table>\n",
    "\n",
    "\n",
    "**Distribution of voice levels per gender:**\n",
    "<table style=\"border-collapse:collapse;border-spacing:0\"><tr><th style=\"font-family:Arial, sans-serif;font-size:14px;font-weight:normal;padding:10px 5px;border-style:solid;border-width:1px;overflow:hidden;word-break:normal;text-align:center\" colspan=\"2\">female</th><th style=\"font-family:Arial, sans-serif;font-size:14px;font-weight:normal;padding:10px 5px;border-style:solid;border-width:1px;overflow:hidden;word-break:normal;text-align:center\" colspan=\"2\">male</th></tr><tr><td style=\"font-family:Arial, sans-serif;font-size:14px;padding:10px 5px;border-style:solid;border-width:1px;overflow:hidden;word-break:normal;text-align:center\">low</td><td style=\"font-family:Arial, sans-serif;font-size:14px;padding:10px 5px;border-style:solid;border-width:1px;overflow:hidden;word-break:normal;text-align:center\">high</td><td style=\"font-family:Arial, sans-serif;font-size:14px;padding:10px 5px;border-style:solid;border-width:1px;overflow:hidden;word-break:normal;text-align:center\">low</td><td style=\"font-family:Arial, sans-serif;font-size:14px;padding:10px 5px;border-style:solid;border-width:1px;overflow:hidden;word-break:normal;text-align:center\">high</td></tr><tr><td style=\"font-family:Arial, sans-serif;font-size:14px;padding:10px 5px;border-style:solid;border-width:1px;overflow:hidden;word-break:normal;text-align:center\">0.35</td><td style=\"font-family:Arial, sans-serif;font-size:14px;padding:10px 5px;border-style:solid;border-width:1px;overflow:hidden;word-break:normal;text-align:center\">0.65</td><td style=\"font-family:Arial, sans-serif;font-size:14px;padding:10px 5px;border-style:solid;border-width:1px;overflow:hidden;word-break:normal;text-align:center\">0.6</td><td style=\"font-family:Arial, sans-serif;font-size:14px;padding:10px 5px;border-style:solid;border-width:1px;overflow:hidden;word-break:normal;text-align:center\">0.4</td></tr></table>\n",
    "\n",
    "The detective goes out on the street to find the murderer. Please help him to solve the case\n",
    "with your knowledge about probability theory. Assume that there are as many women as\n",
    "men on the streets, and that perfume scent category and gender are independent. \n",
    "\n",
    "Answer the following questions (each worth **2 points**). Write down the formula as well as the NumPy code to compute the result:\n",
    "\n",
    "### 2.1 What is the probability that the first person he meets uses a tropical perfume and speaks in a low voice?"
   ]
  },
  {
   "cell_type": "code",
   "execution_count": 7,
   "metadata": {},
   "outputs": [
    {
     "name": "stdout",
     "output_type": "stream",
     "text": [
      "0.1425\n"
     ]
    }
   ],
   "source": [
    "#P(S = t and V = l) = P(t)*P(l)\n",
    "#P(S = t) = P(t) = 0.3\n",
    "#P(V = l) = (P(V = l,G = m)+P(V = l,G = f))/(sigma -over x- P(V = l,G=x)+sigma -over y- P(V = h,G=y))\n",
    "#or\n",
    "#P(V = l) = (sigma -over x-P(V = l,G = x)/(sigma -over x,y- P(V = x,G=y))\n",
    "\n",
    "P_pt = 0.3\n",
    "P_pl_and_pf = 0.35*0.5 #P_pl_and_pf = P(v = l|G = f)*P(f)\n",
    "P_pl_and_pm = 0.6*0.5  #P_pl_and_pm = P(v = l|G = m)*P(m)\n",
    "P_ph_and_pf = 0.65*0.5 #P_ph_and_pf = P(v = h|G = f)*P(f)\n",
    "P_ph_and_pm = 0.4*0.5  #P_ph_and_pm = P(v = h|G = m)*P(m)\n",
    "\n",
    "P_pl = (P_pl_and_pf+P_pl_and_pm)/(P_pl_and_pf+P_pl_and_pm+P_ph_and_pf+P_ph_and_pm)\n",
    "\n",
    "P_pt_and_pv = P_pt*P_pl\n",
    "print P_pt_and_pv"
   ]
  },
  {
   "cell_type": "markdown",
   "metadata": {},
   "source": [
    "### 2.2 What is the probability that the first *man* he meets uses a tropical perfume and speaks in a low voice?"
   ]
  },
  {
   "cell_type": "code",
   "execution_count": 8,
   "metadata": {
    "collapsed": true
   },
   "outputs": [],
   "source": [
    "#P(S = t,V = l|G = m) = P(S = t|V = l,G = m)*P(V = l|G = m) = P(S = t)*P(V = l|G = m)\n",
    "P_ps_and_pv_givenMale = 0.3*0.6"
   ]
  },
  {
   "cell_type": "markdown",
   "metadata": {},
   "source": [
    "### 2.3 What is the gender distribution given that he/she has a low voice?"
   ]
  },
  {
   "cell_type": "code",
   "execution_count": 9,
   "metadata": {
    "collapsed": true
   },
   "outputs": [],
   "source": [
    "#P(m|l) = (P(l|m)*P(m))/P(l)\n",
    "#P(f|l) = (P(l|f)*P(f))/P(l)\n",
    "\n",
    "P_pm_givenl= 0.6*0.5/P_pl\n",
    "P_pf_givenl=0.35*0.5/P_pl\n"
   ]
  },
  {
   "cell_type": "markdown",
   "metadata": {},
   "source": [
    "---\n",
    "# 3. Coloured Boxes (6 points)\n",
    "\n",
    "Suppose that we have three colored boxes *r* (red), *b* (blue), and *g* (green).\n",
    "Box *r* contains 4 apples, 2 oranges, and 2 limes, box *b* contains 1 apple, 1 orange,\n",
    "and 0 limes, and box *g* contains 3 apples, 3 oranges, and 4 limes.\n",
    "\n",
    "Each of the following tasks is worth **2 points:**\n",
    "\n",
    "### 3.1 Create a NumPy array that holds the probability table that represents the distribution of the fruits given the colour of the boxes."
   ]
  },
  {
   "cell_type": "code",
   "execution_count": 10,
   "metadata": {
    "collapsed": true
   },
   "outputs": [],
   "source": [
    "p = np.array([\n",
    "     #Ap    Or    Lm\n",
    "    [ 4/8  ,2/8   ,2/8 ], #Br\n",
    "    [ 1/2  ,1/2   ,0/6 ], #Bb\n",
    "    [ 3/10 ,3/10  ,4/10]  #Bg\n",
    "\n",
    "])"
   ]
  },
  {
   "cell_type": "markdown",
   "metadata": {},
   "source": [
    "### 3.2 If a box is chosen at random with probabilities P(r) = 0.3, P(b) = 0.4, P(g) = 0.3, and one piece of fruit is chosen randomly from this box, then what is the probability of selecting an apple?"
   ]
  },
  {
   "cell_type": "code",
   "execution_count": 11,
   "metadata": {
    "scrolled": true
   },
   "outputs": [
    {
     "name": "stdout",
     "output_type": "stream",
     "text": [
      "0.44\n"
     ]
    }
   ],
   "source": [
    "P_apples = 0.3*(0.5) + 0.4*(0.5)+ 0.3*(0.3)\n",
    "print P_apples"
   ]
  },
  {
   "cell_type": "code",
   "execution_count": 14,
   "metadata": {},
   "outputs": [
    {
     "data": {
      "text/plain": [
       "0.2054794520547945"
      ]
     },
     "execution_count": 14,
     "metadata": {},
     "output_type": "execute_result"
    }
   ],
   "source": [
    "#P_redbox_given_orange = P_orange_given_redbox*P_redbox/P_orange\n",
    "P_redbox = 0.3\n",
    "P_orange_given_redbox = 0.25\n",
    "P_orange = 0.3*(0.25) + 0.4*(0.5)+ 0.3*(0.3)\n",
    "P_orange\n",
    "P_redbox_given_orange  = (P_orange_given_redbox*P_redbox)/P_orange\n",
    "#P_redbox_given_orange\n",
    "P_redbox_given_orange"
   ]
  },
  {
   "cell_type": "markdown",
   "metadata": {},
   "source": [
    "### 3.3 If we observe that the selected fruit is in fact an orange, what is the probability that it came from the red box? Assume, that we chose the box with the same probabilities as in question 3.2."
   ]
  },
  {
   "cell_type": "markdown",
   "metadata": {},
   "source": [
    "---\n",
    "# 4. Conditional Independence (6 points)\n",
    "\n",
    "Imagine the (simplified) model of a car operation shown in the figure below: The charger (CH) deter-\n",
    "mines the battery power (BP). The battery age (BA) has a mayor impact on the battery state\n",
    "(BS), which again influences the battery power. The battery power determines whether the\n",
    "light works (LW) and whether the engine cranks (EC). Finally, a cranking engine inhibits the\n",
    "car from starting (CS). (Exercise inspired by Ben Taskar’s machine learning course (http://learning.cis.upenn.edu/cis520_fall2009))\n",
    "\n",
    "![img](mi.png)\n",
    "\n",
    "Indicate which of the following statements are true. $A \\perp B$ means A is independent of B, $A \\perp B \\mid C$ means A is independent of B given C. Each answer is worth **1 point**.\n",
    "\n",
    "*Hint: Read about **D-separation** and the **Bayes-ball algorithm** if you have problems.* "
   ]
  },
  {
   "cell_type": "markdown",
   "metadata": {
    "collapsed": true
   },
   "source": [
    " - $BA \\perp BP$ ?\n",
    " - $CH \\perp BS$ ?\n",
    " - $CS \\perp LW$ ?\n",
    " - $BA \\perp BP \\mid BS$ ?\n",
    " - $CH \\perp BA \\mid BP$ ?\n",
    " - $CH \\perp BA \\mid BP, BS$ ?"
   ]
  },
  {
   "cell_type": "code",
   "execution_count": 13,
   "metadata": {},
   "outputs": [
    {
     "data": {
      "text/plain": [
       "True"
      ]
     },
     "execution_count": 13,
     "metadata": {},
     "output_type": "execute_result"
    }
   ],
   "source": [
    "False\n",
    "True\n",
    "False\n",
    "True\n",
    "False\n",
    "False"
   ]
  }
 ],
 "metadata": {
  "kernelspec": {
   "display_name": "Python 2",
   "language": "python",
   "name": "python2"
  },
  "language_info": {
   "codemirror_mode": {
    "name": "ipython",
    "version": 2
   },
   "file_extension": ".py",
   "mimetype": "text/x-python",
   "name": "python",
   "nbconvert_exporter": "python",
   "pygments_lexer": "ipython2",
   "version": "2.7.13"
  }
 },
 "nbformat": 4,
 "nbformat_minor": 1
}
