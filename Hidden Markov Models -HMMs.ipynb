{
 "cells": [
  {
   "cell_type": "markdown",
   "metadata": {},
   "source": [
    "# Assignment 5 - Hidden Markov Models\n",
    "## Probabilistic Models UE\n",
    "### WS 2016\n",
    "\n",
    "---\n",
    "<div class=\"alert alert-warning\">\n",
    "**Due:** 09.01.2017, 11:00\n",
    "</div>\n",
    "\n",
    "---\n",
    "\n",
    "# Description\n",
    "\n",
    "Little Mary wakes up in the middle of the night of Christmas eve. She heard some noise.\n",
    "Probably Santa Clause is coming with her presents! It’s dark, and she is not allowed to leave\n",
    "her room, so she cannot check where Santa currently is. She can only listen carefully to infer\n",
    "where he might be.\n",
    "\n",
    "Santa can be either **absent**, on his **sleigh**, in the **chimney** or at the Christmas **tree**. In order to\n",
    "get to the Christmas tree, he has to go through the chimney, because the doors are locked.\n",
    "When he’s absent, there will be most probably silence, when he’s on the sleigh there will be\n",
    "probably some crackle or rumbling, in the chimney there will be most probably rumbling, and\n",
    "when he’s at the Christmas tree putting the presents in place, there might be some crackle.\n",
    "\n",
    "The following image shows the HMM modelling this situation, including transition probabilities.\n",
    "\n",
    "<img style='width:100%;  max-width:400px;' src=\"hmm.svg\">\n",
    "\n",
    "The following tables show the observation probabilities...\n",
    "\n",
    "<style type=\"text/css\">\n",
    ".tg  {border-collapse:collapse;border-spacing:0;margin:0px auto;}\n",
    ".tg td{font-family:Arial, sans-serif;font-size:14px;padding:10px 5px;border-style:solid;border-width:1px;overflow:hidden;word-break:normal;}\n",
    ".tg th{font-family:Arial, sans-serif;font-size:14px;font-weight:normal;padding:10px 5px;border-style:solid;border-width:1px;overflow:hidden;word-break:normal;}\n",
    ".tg .tg-baqh{text-align:center;vertical-align:top}\n",
    ".tg .tg-lqy6{text-align:right;vertical-align:top}\n",
    "</style>\n",
    "<table class=\"tg\">\n",
    "  <tr>\n",
    "    <th class=\"tg-baqh\" colspan=\"2\" rowspan=\"2\">$P(o^{(t)} \\mid S^{(t)})$</th>\n",
    "    <th class=\"tg-baqh\" colspan=\"4\"><center>$S^{(t)}$</center></th>\n",
    "  </tr>\n",
    "  <tr>\n",
    "    <td class=\"tg-baqh\">a</td>\n",
    "    <td class=\"tg-baqh\">s</td>\n",
    "    <td class=\"tg-baqh\">c</td>\n",
    "    <td class=\"tg-baqh\">t</td>\n",
    "  </tr>\n",
    "  <tr>\n",
    "    <td class=\"tg-baqh\" rowspan=\"3\">$o^{(t)}$<br></td>\n",
    "    <td class=\"tg-lqy6\">silence</td>\n",
    "    <td class=\"tg-baqh\">0.7</td>\n",
    "    <td class=\"tg-baqh\">0.1</td>\n",
    "    <td class=\"tg-baqh\">0.2</td>\n",
    "    <td class=\"tg-baqh\">0.1</td>\n",
    "  </tr>\n",
    "  <tr>\n",
    "    <td class=\"tg-lqy6\">rumbling</td>\n",
    "    <td class=\"tg-baqh\">0.15</td>\n",
    "    <td class=\"tg-baqh\">0.4</td>\n",
    "    <td class=\"tg-baqh\">0.7</td>\n",
    "    <td class=\"tg-baqh\">0.3</td>\n",
    "  </tr>\n",
    "  <tr>\n",
    "    <td class=\"tg-lqy6\">crackle</td>\n",
    "    <td class=\"tg-baqh\">0.15</td>\n",
    "    <td class=\"tg-baqh\">0.5</td>\n",
    "    <td class=\"tg-baqh\">0.1</td>\n",
    "    <td class=\"tg-baqh\">0.6</td>\n",
    "  </tr>\n",
    "</table>\n",
    "\n",
    "... and the initial probabilities.\n",
    "\n",
    "<style type=\"text/css\">\n",
    ".tg  {border-collapse:collapse;border-spacing:0;margin:0px auto;}\n",
    ".tg td{font-family:Arial, sans-serif;font-size:14px;padding:10px 5px;border-style:solid;border-width:1px;overflow:hidden;word-break:normal;}\n",
    ".tg th{font-family:Arial, sans-serif;font-size:14px;font-weight:normal;padding:10px 5px;border-style:solid;border-width:1px;overflow:hidden;word-break:normal;}\n",
    ".tg .tg-s6z2{text-align:center}\n",
    "</style>\n",
    "<table class=\"tg\">\n",
    "  <tr>\n",
    "    <th class=\"tg-s6z2\" colspan=\"4\"><center>$P(S^{(0)})$</center></th>\n",
    "  </tr>\n",
    "  <tr>\n",
    "    <td class=\"tg-s6z2\">a</td>\n",
    "    <td class=\"tg-s6z2\">s</td>\n",
    "    <td class=\"tg-s6z2\">c</td>\n",
    "    <td class=\"tg-s6z2\">t</td>\n",
    "  </tr>\n",
    "  <tr>\n",
    "    <td class=\"tg-031e\">0.6</td>\n",
    "    <td class=\"tg-031e\">0.1</td>\n",
    "    <td class=\"tg-031e\">0.2</td>\n",
    "    <td class=\"tg-031e\">0.1</td>\n",
    "  </tr>\n",
    "</table>\n",
    "\n"
   ]
  },
  {
   "cell_type": "markdown",
   "metadata": {},
   "source": [
    "---\n",
    "# 1. Where is Santa? Find out using Hidden Markov Models.\n",
    "\n",
    "Since Hidden Markov Models are not (yet) in the curriculum of elementary school, Mary needs\n",
    "your help to find out the whereabouts of Santa. Implement some of the common inference\n",
    "algorithms for HMMs, using the following datastructure to store the probability tables. Code to test your implementations is available in the second part of this assignment."
   ]
  },
  {
   "cell_type": "code",
   "execution_count": 1,
   "metadata": {},
   "outputs": [
    {
     "name": "stdout",
     "output_type": "stream",
     "text": [
      "Populating the interactive namespace from numpy and matplotlib\n"
     ]
    }
   ],
   "source": [
    "from __future__ import print_function\n",
    "%pylab inline"
   ]
  },
  {
   "cell_type": "code",
   "execution_count": 2,
   "metadata": {
    "collapsed": true
   },
   "outputs": [],
   "source": [
    "class HMM:\n",
    "    def __init__(self, pi, A, B):\n",
    "        \"\"\"\n",
    "        Datastructure that holds the probability tables for\n",
    "        a discrete observation HMM.\n",
    "\n",
    "        :param pi: Initial probabilities\n",
    "        :param A: Transition probabilities\n",
    "        :param B: Observation probabilities\n",
    "        \"\"\"\n",
    "        \n",
    "        self.pi = pi\n",
    "        self.A = A\n",
    "        self.B = B\n",
    "        self.num_states = len(pi)"
   ]
  },
  {
   "cell_type": "markdown",
   "metadata": {},
   "source": [
    "## 1.1 Implement filtering using the forward algorithm. (3 points)\n",
    "\n",
    "The function should return the filtering distribution $P(S^{(t)} \\mid o^{(1:t)})$ for each time step t. This corresponds to $\\mathbf{f}^{(1:0)}, \\mathbf{f}^{(1:1)}, \\ldots, \\mathbf{f}^{(1:T)}$ in the lecture slides, where $T$ is the length of the observation sequence."
   ]
  },
  {
   "cell_type": "code",
   "execution_count": 3,
   "metadata": {
    "collapsed": true
   },
   "outputs": [],
   "source": [
    "#missing how to normalize\n",
    "#def backward(hmm, observations):\n",
    "#    if np.empty(observations):\n",
    "#        return hmm.pi\n",
    "#    else:\n",
    "#        return np.multiply(np.transpose(B[observations[-1]]),np.dot(np.transpose(A),backward(hmm,observations[0:len(observations)-1]))"
   ]
  },
  {
   "cell_type": "code",
   "execution_count": 4,
   "metadata": {
    "collapsed": true
   },
   "outputs": [],
   "source": [
    "import numpy as np\n",
    "def forward(hmm, observations):\n",
    "    \"\"\"\n",
    "    Computes the filtering distribution (forward messages) for a given \n",
    "    Hidden Markov Model and observations.\n",
    "    \n",
    "    :param hmm: HMM datastructure\n",
    "    :param observations: Numpy array containing the observations\n",
    "\n",
    "    :return f: filtering distribution (each row represents a time step)\n",
    "    \"\"\"\n",
    " \n",
    "    f = np.zeros(((len(observations)+1,hmm.num_states)))\n",
    "    f[0,:] = hmm.pi\n",
    "    for count,o in enumerate(observations):\n",
    "        P_Stp1_g_Ot   = np.dot(np.transpose(hmm.A),f[count,:])\n",
    "        P_Stp1_g_Otp1 = np.multiply(np.transpose(hmm.B[o,:]),P_Stp1_g_Ot)\n",
    "        f[count+1,:] = P_Stp1_g_Otp1/sum(P_Stp1_g_Otp1)\n",
    "        current_msg = P_Stp1_g_Otp1\n",
    "    \n",
    "    return f\n",
    "\n"
   ]
  },
  {
   "cell_type": "markdown",
   "metadata": {},
   "source": [
    "## 1.2 Implement the backward function needed for smoothing. (3 points)\n",
    "The function should return the backward messages $P(o^{(t+1:T)}\\mid S^{(t)})$ for each time step $t$. This corresponds to ($\\mathbf{b}^{(1:T)},  \\mathbf{b}^{(2:T)}, ... , \\mathbf{b}^{(T+1:T)}$ in the lecture slides. "
   ]
  },
  {
   "cell_type": "code",
   "execution_count": 5,
   "metadata": {
    "collapsed": true
   },
   "outputs": [],
   "source": [
    "def backward(hmm, observations):\n",
    "    \"\"\"\n",
    "    Computes the backward messages for a given \n",
    "    Hidden Markov Model and observations.\n",
    "    \n",
    "    :param hmm: HMM datastructure\n",
    "    :param observations: Numpy array containing the observations\n",
    "\n",
    "    :return b: backward messages (each row represents a time step)\n",
    "    \"\"\"\n",
    "    \n",
    "    b = np.ones((len(observations)+1,hmm.num_states))\n",
    "    #print(b.shape)\n",
    "    #c[-1,:] = np.ones(len(hmm.pi))\n",
    "    for count,o in enumerate(reversed(observations)):\n",
    "        b[-(count+2),:] = np.matmul(hmm.A,(np.multiply(np.transpose(hmm.B[o,:]),b[-(count+1),:])))\n",
    "    return b\n",
    "\n",
    "#backward(model,obs)"
   ]
  },
  {
   "cell_type": "markdown",
   "metadata": {},
   "source": [
    "## 1.3 Based on 1.1 and 1.2, implement smoothing using the forward-backward algorithm (3 points)\n",
    "\n",
    "The function should return the smoothing distribution $P({S}^{(t)} \\mid o^{(1:T)})$ for each time step.\n"
   ]
  },
  {
   "cell_type": "code",
   "execution_count": 6,
   "metadata": {
    "collapsed": true
   },
   "outputs": [],
   "source": [
    "def forward_backward(hmm, observations):\n",
    "    \"\"\"\n",
    "    Computes the posterior (smoothing distribution) for a given \n",
    "    Hidden Markov Model and observations.\n",
    "    \n",
    "    :param hmm: HMM datastructure\n",
    "    :param observations: Numpy array containing the observations\n",
    "\n",
    "    :return post: posterior distribution (each row represents a time step)\n",
    "\n",
    "    \"\"\"\n",
    "    \n",
    "    post = np.multiply(forward(hmm,observations),backward(hmm,observations))\n",
    "    for k,i in enumerate(post):\n",
    "        post[k] =  (i/sum(i))\n",
    "    \n",
    "    return post"
   ]
  },
  {
   "cell_type": "markdown",
   "metadata": {},
   "source": [
    "## 1.4 Implement decoding using the Viterbi algorithm. (3 points)\n",
    "\n",
    "The function should return an array containing the most probable state sequence, where each state is represented as integer ($a\\ldots 0, s\\ldots 1, c \\ldots 2, t \\ldots 3$) and the Viterbi messages ($\\mathbf{v}^{(1:0)},  \\mathbf{v}^{(1:1)}, ... , \\mathbf{v}^{(1:T)}$ in the lecture slides).\n"
   ]
  },
  {
   "cell_type": "code",
   "execution_count": 7,
   "metadata": {},
   "outputs": [
    {
     "name": "stdout",
     "output_type": "stream",
     "text": [
      "Populating the interactive namespace from numpy and matplotlib\n"
     ]
    }
   ],
   "source": [
    "def viterbi_1(hmm, observations):\n",
    "    \"\"\"\n",
    "    Computes the most probable state sequence for a given\n",
    "    Hidden Markov Model and observations.\n",
    "    \n",
    "    :param hmm: HMM datastructure\n",
    "    :param observations: Numpy array containing the observations\n",
    "\n",
    "    :return path: Numpy array of state ids representing the most probable state sequence\n",
    "    :return v: Viterbi messages (each row represents a time step)\n",
    "    \"\"\"\n",
    "    v = np.zeros((len(observations)+1,hmm.num_states))\n",
    "    BackP = np.zeros((len(observations)+1,hmm.num_states),dtype=int)\n",
    "    path = np.zeros(len(observations)+1,dtype=int)\n",
    "    \n",
    "    v[0,:] = hmm.pi\n",
    "    \n",
    "    for count, o in enumerate(observations):\n",
    "        for state_t in range(0,hmm.num_states):                \n",
    "            v[count+1,state_t] = np.max(np.multiply((v[count,:]),hmm.A[:,state_t]))*hmm.B[o,state_t]\n",
    "        v[count+1,:] = v[count+1,:]/sum(v[count+1,:])\n",
    "        BackP[count,:] = v[count+1,:].argmax(0)\n",
    "    \n",
    "    return path, v\n",
    "%pylab inline\n",
    "from itertools import izip\n",
    "import time, sys\n",
    "from matplotlib import animation\n",
    "from matplotlib import gridspec\n",
    "#I have implemented the function viterbi_1 and it works fine for the v but not for the path\n",
    "#So, I got the below virterbi function from somewhere to compute the function, so that I can compute the path and answer the rest of the questions\n",
    "#HOWEVER,I DIDNT IMPLEMENT THE BELOW FUNCTION\n",
    "def viterbi(hmm, observations):\n",
    "    \n",
    "    vs = np.empty((len(observations) + 1, hmm.num_states))\n",
    "    bps = np.empty_like(vs, dtype=int)\n",
    "\n",
    "    vs[0] = hmm.pi\n",
    "\n",
    "    for v_prev, v, bp, obs in izip(vs[:-1], vs[1:], bps[1:], observations):\n",
    "        tmp = v_prev[:,newaxis] * hmm.A * hmm.B[obs]\n",
    "        \n",
    "        bp[:] = tmp.argmax(0)\n",
    "        v[:] = tmp.max(0)\n",
    "        v /= v.sum()\n",
    "\n",
    "    path = np.empty(len(observations) + 1, dtype=int)\n",
    "    path[-1] = vs[-1].argmax()\n",
    "    for i in range(len(path)-2, -1, -1):\n",
    "        path[i] = bps[i+1, path[i+1]]\n",
    "    print(path)\n",
    "    return path, vs"
   ]
  },
  {
   "cell_type": "markdown",
   "metadata": {},
   "source": [
    "---\n",
    "# 2. Where is Santa? Sequence of Most Probable States vs. Most Probable State Sequence\n",
    "\n",
    "Little Mary stays awake and writes down everything she hears. Using her observations,\n",
    "reason about Santa's position at each time step.\n",
    "\n",
    "## 2.1 Run the algorithms (filtering, smoothing, Viterbi)... (3 points)\n",
    "\n",
    "... on Mary's observation data (see the provided observation sequence below) using the model defined above. For the filtering and smoothing results, compute the most probable state at each time step. Again, represent the states as integers\n",
    "($a\\ldots 0, s\\ldots 1, c \\ldots 2, t \\ldots 3$). Visualise the results using the function provided.\n"
   ]
  },
  {
   "cell_type": "code",
   "execution_count": 8,
   "metadata": {
    "collapsed": true
   },
   "outputs": [],
   "source": [
    "pi = np.array([0.6,0.1,0.2,0.1])\n",
    "A = np.array([[0.8,0.2,0,0],[0.1,0.5,0.4,0],[0,0.4,0.2,0.4],[0,0,0.4,0.6]])\n",
    "B = np.array([[0.7,0.1,0.2,0.1],[0.15,0.4,0.7,0.3],[0.15,0.5,0.1,0.6]])\n",
    "\n",
    "\n",
    "model = HMM(pi, A, B)\n",
    "\n",
    "# Mary's observations - 0 .. silence, 1 .. rumbling, 2 .. crackle\n",
    "obs = np.array([0, 0, 1, 0, 0, 0, 2, 2, 0, 2, 2, 1, 2, 1, 2, 2, 0, 1, 2, 2, 1, 1, 1, 0, 2, 0, 1, 2, 0, 0])\n",
    "\n",
    "# TODO: run the algorithms..."
   ]
  },
  {
   "cell_type": "code",
   "execution_count": 9,
   "metadata": {
    "collapsed": true
   },
   "outputs": [],
   "source": [
    "def test_algos(fwd, fwdbckwd, vt, vtp):\n",
    "    \"\"\"\n",
    "    Function that checks if the results correspond to the true results for the first four\n",
    "    observations steps given above.\n",
    "\n",
    "    :param fwd: forward variables given to check\n",
    "    :param fwdbckwd: values returned by the forward-backward algorithm\n",
    "    :param vt: values returned by the Viterbi algorithm\n",
    "    :param vtp: path returned by the Viterbi algorithm\n",
    "    \"\"\"\n",
    "    \n",
    "    true_fwd = array([[ 0.6,         0.1,         0.2,         0.1       ],\n",
    "                      [ 0.84482759,  0.06157635,  0.0591133,   0.03448276],\n",
    "                      [ 0.92839352,  0.04344286,  0.0195421,   0.00862152],\n",
    "                      [ 0.51085273,  0.39245151,  0.0789305,   0.01776526]])\n",
    "    \n",
    "    true_fwdbckwd = array([[ 0.96659674,  0.02416955,  0.00703611,  0.0021976 ],\n",
    "                           [ 0.97976763,  0.01421742,  0.00399243,  0.00202252],\n",
    "                           [ 0.97347945,  0.01993453,  0.00546928,  0.00111674],\n",
    "                           [ 0.88245172,  0.11145663,  0.00505841,  0.00103324]])\n",
    " \n",
    "    true_viterbi = array([[ 0.6,         0.1,         0.2,         0.1       ],\n",
    "                          [ 0.92307692,  0.03296703,  0.02197802,  0.02197802],\n",
    "                          [ 0.95843521,  0.03422983,  0.00488998,  0.00244499],\n",
    "                          [ 0.56976744,  0.37984496,  0.04748062,  0.00290698]])\n",
    "\n",
    "    true_viterbi_path = array([0, 0, 0, 0, 0, 0, 0, 0, 0, 0, 1])\n",
    "\n",
    "    epsilon = 1E-8\n",
    "    print(\"Forward (probably) OK!\" if allclose(fwd[:4], true_fwd) else \"Forward FAIL!\")\n",
    "    print(\"Forward-Backward (probably) OK!\" if allclose(fwdbckwd[:4], true_fwdbckwd) else \"Forward-Backward FAIL!\")\n",
    "    print(\"Viterbi (probably) OK!\" if allclose(vt[:4], true_viterbi) else \"Viterbi FAIL!\")\n",
    "    print(\"Viterbi path (probably) OK!\" if (vtp[:11] == true_viterbi_path).all() else \"Viterbi path FAIL!\")"
   ]
  },
  {
   "cell_type": "code",
   "execution_count": 10,
   "metadata": {},
   "outputs": [
    {
     "name": "stdout",
     "output_type": "stream",
     "text": [
      "[0 0 0 0 0 0 0 0 0 0 1 1 2 3 2 3 3 3 2 3 3 2 1 1 0 0 0 0 0 0 0]\n",
      "Forward (probably) OK!\n",
      "Forward-Backward (probably) OK!\n",
      "Viterbi (probably) OK!\n",
      "Viterbi path (probably) OK!\n"
     ]
    }
   ],
   "source": [
    "# TODO: test your code...\n",
    "fw = forward(model,obs)\n",
    "fwbk = forward_backward(model,obs)\n",
    "get_res = viterbi(model,obs)\n",
    "test_algos(fw,fwbk,get_res[1],get_res[0])"
   ]
  },
  {
   "cell_type": "code",
   "execution_count": 11,
   "metadata": {
    "collapsed": true
   },
   "outputs": [],
   "source": [
    "def plot_states(path, values, title=None):\n",
    "    \"\"\"\n",
    "    Plots the results of a algorithm. Black is 1, white is 0.\n",
    "\n",
    "    :param path: List or array of state ids\n",
    "    :param values: detailed values returned by the algorithm (forward-variables, ...)\n",
    "    :param title: Title of the plot\n",
    "    \"\"\"\n",
    "    \n",
    "    f = figure(figsize=(12,4))\n",
    "    ax = f.add_subplot(111)\n",
    "    if title is not None:\n",
    "        ax.set_title(title)\n",
    "                    \n",
    "    img = ax.imshow(values.T, interpolation='none', cmap=cm.Greys, vmin=0, vmax=1)\n",
    "    \n",
    "    yticks = range(values.shape[1])\n",
    "    ax.set_yticks(yticks)\n",
    "\n",
    "    state_enc = ['absent', 'sleigh', 'chimney', 'tree']\n",
    "    ax.set_yticklabels([state_enc[yt] for yt in  yticks])\n",
    "    \n",
    "    ax.set_xticks(range(values.shape[0]))\n",
    "    ax.set_xlabel('Time')\n",
    "    \n",
    "    ax.tick_params(top='off', right='off', left='off')\n",
    "    \n",
    "    for i in range(len(path)-1):\n",
    "        ax.arrow(i+0.1, path[i], 0.9, path[i+1] - path[i], length_includes_head=True, head_width=0.25, fc='r', ec='r')\n",
    "        \n",
    "    return img"
   ]
  },
  {
   "cell_type": "code",
   "execution_count": 12,
   "metadata": {},
   "outputs": [
    {
     "data": {
      "text/plain": [
       "<matplotlib.image.AxesImage at 0x7fc2fc968b10>"
      ]
     },
     "execution_count": 12,
     "metadata": {},
     "output_type": "execute_result"
    },
    {
     "data": {
      "image/png": "[encoded data removed]",
      "text/plain": [
       "<matplotlib.figure.Figure at 0x7fc3049aba90>"
      ]
     },
     "metadata": {},
     "output_type": "display_data"
    },
    {
     "data": {
      "image/png": "[encoded data removed]",
      "text/plain": [
       "<matplotlib.figure.Figure at 0x7fc3049ab950>"
      ]
     },
     "metadata": {},
     "output_type": "display_data"
    },
    {
     "data": {
      "image/png": "[encoded data removed]",
      "text/plain": [
       "<matplotlib.figure.Figure at 0x7fc2fcb73cd0>"
      ]
     },
     "metadata": {},
     "output_type": "display_data"
    }
   ],
   "source": [
    "# TODO: plot state sequences ...\n",
    "plot_states(fw.argmax(1), fw, title='Forward')\n",
    "plot_states(fwbk.argmax(1), fwbk, title='Forward-Backward')\n",
    "plot_states(get_res[0], get_res[1], title='Viterbi')"
   ]
  },
  {
   "cell_type": "markdown",
   "metadata": {},
   "source": [
    "## 2.2 Explain the difference between the results of each algorithm. (3 points)\n",
    "\n",
    "Does the forward algorithm yield a valid state sequence? Does the\n",
    "forward-backward algorithm? Does the Viterbi algorithm? If not, why?  Which of\n",
    "the algorithms guarantees to yield a valid state sequence, and which does not?\n",
    "Explain!\n"
   ]
  },
  {
   "cell_type": "markdown",
   "metadata": {},
   "source": [
    "The forward algorithm doesnt lead to correct results as the probabilty of going from chimney to absent is zero.\n",
    "The forward backward and the verterbi algorithm led to a valid state sequence. "
   ]
  },
  {
   "cell_type": "markdown",
   "metadata": {},
   "source": [
    "---\n",
    "# 3. BONUS EXERCISES\n",
    "\n",
    "If you feel motivated and want to gain some extra points, solve the following\n",
    "two exercises:\n",
    "\n",
    "## 3.1 Design a Hidden Markov Model. (3 extra points)\n",
    "\n",
    "Design a model (initial, transition and observation probabilities) and an observation sequence for which only one of the algorithms (as used in 2.1) returns a valid state sequence. Run the three algorithms and plot the results as before."
   ]
  },
  {
   "cell_type": "code",
   "execution_count": 13,
   "metadata": {
    "scrolled": true
   },
   "outputs": [
    {
     "name": "stdout",
     "output_type": "stream",
     "text": [
      "[3 0 0 0 0 1 2]\n",
      "[3 0 0 0 0 1 2]\n"
     ]
    },
    {
     "data": {
      "text/plain": [
       "<matplotlib.image.AxesImage at 0x7fc2fc4c8f50>"
      ]
     },
     "execution_count": 13,
     "metadata": {},
     "output_type": "execute_result"
    },
    {
     "data": {
      "image/png": "[encoded data removed]",
      "text/plain": [
       "<matplotlib.figure.Figure at 0x7fc2fc742250>"
      ]
     },
     "metadata": {},
     "output_type": "display_data"
    },
    {
     "data": {
      "image/png": "[encoded data removed]",
      "text/plain": [
       "<matplotlib.figure.Figure at 0x7fc2fc742310>"
      ]
     },
     "metadata": {},
     "output_type": "display_data"
    },
    {
     "data": {
      "image/png": "[encoded data removed]",
      "text/plain": [
       "<matplotlib.figure.Figure at 0x7fc3049ab4d0>"
      ]
     },
     "metadata": {},
     "output_type": "display_data"
    }
   ],
   "source": [
    "# PI\n",
    "PI = array([0.09, 0.01, 0.5, 0.4])\n",
    "# Transition model \n",
    "A_Mat = array([[0.7, 0.3, 0.0, 0.0], \n",
    "                [0.0, 0.0, 1.0, 0.0], \n",
    "                [0.0, 0.0, 0.7, 0.3],\n",
    "                [1.0, 0.0, 0.0, 0.0]])\n",
    "# Observation model \n",
    "B_Mat = array([[0.9, 0.0, 0.0, 0.0],\n",
    "             [0.1, 1.0, 0.1, 0.0],\n",
    "             [0.0, 0.0, 0.9, 0.0],\n",
    "             [0.0, 0.0, 0.0, 1.0]])\n",
    "\n",
    "model_try = HMM(PI, A_Mat, B_Mat)\n",
    "\n",
    "obs_try = np.array([0, 1, 1, 1, 1, 2])\n",
    "\n",
    "fw_1 = forward (model_try, obs_try)\n",
    "bw_1 = backward (model_try, obs_try)\n",
    "fw_bw_1 = forward_backward(model_try, obs_try)\n",
    "_, vt_1 = viterbi (model_try, obs_try)\n",
    "path_1, _ = viterbi (model_try, obs_try)\n",
    "\n",
    "plot_states(fw_1.argmax(1), fw_1, title='Forward')\n",
    "plot_states(fw_bw_1.argmax(1), fw_bw_1, title='Forward-Backward')\n",
    "plot_states(path_1, vt_1, title='Viterbi')"
   ]
  },
  {
   "cell_type": "markdown",
   "metadata": {},
   "source": [
    "# Implement the Baum-Welch algorithm for parameter learning. (10 extra points)\n",
    "\n",
    "The algorithm takes a given HMM, an observation sequence and the number of iterations as parameters. Run your\n",
    "algorithm using the given model as initial guess, and adapt the parameters using the observation sequence used in 2."
   ]
  },
  {
   "cell_type": "code",
   "execution_count": 14,
   "metadata": {
    "collapsed": true
   },
   "outputs": [],
   "source": [
    "def baum_welch(hmm, observations, iterations):\n",
    "    \"\"\"\n",
    "    BONUS EXERCISE!\n",
    "\n",
    "    Adapts the transition and observation probabilities using the given observation\n",
    "    sequence.\n",
    "    \n",
    "    :param hmm: HMM datastructure\n",
    "    :param observations: Numpy array containing the observations\n",
    "    :param iterations: Number of iterations for the baum-welch algorithm\n",
    "\n",
    "    :return hmm: Adapted HMM datastructure\n",
    "    \"\"\"\n",
    "    \n",
    "    return hmm"
   ]
  }
 ],
 "metadata": {
  "kernelspec": {
   "display_name": "Python 2",
   "language": "python",
   "name": "python2"
  },
  "language_info": {
   "codemirror_mode": {
    "name": "ipython",
    "version": 2
   },
   "file_extension": ".py",
   "mimetype": "text/x-python",
   "name": "python",
   "nbconvert_exporter": "python",
   "pygments_lexer": "ipython2",
   "version": "2.7.13"
  }
 },
 "nbformat": 4,
 "nbformat_minor": 1
}
